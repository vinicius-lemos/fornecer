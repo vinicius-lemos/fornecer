{
 "cells": [
  {
   "cell_type": "code",
   "execution_count": 282,
   "metadata": {},
   "outputs": [],
   "source": [
    "import panel as pn\n",
    "import folium as fm"
   ]
  },
  {
   "cell_type": "code",
   "execution_count": 283,
   "metadata": {},
   "outputs": [],
   "source": [
    "height_widgets = 50"
   ]
  },
  {
   "cell_type": "code",
   "execution_count": 284,
   "metadata": {},
   "outputs": [],
   "source": [
    "button_login = pn.widgets.Button(name='ENTRAR', button_type='primary', height=height_widgets)\n",
    "button_registration = pn.widgets.Button(name='Registre-se', height=height_widgets)\n",
    "\n",
    "button_registration_client = pn.widgets.Button(name='Cadastrar', button_type='primary', height=height_widgets, width=620)\n",
    "button_registration_company = pn.widgets.Button(name='Cadastrar', button_type='primary', height=height_widgets, width=620)\n",
    "button_registration_unsubscribe = pn.widgets.Button(name='Cancelar cadastro', button_type='success', height=height_widgets, width=620)\n",
    "\n",
    "button_search_company = pn.widgets.Button(name='BUSCAR', button_type='primary', height=height_widgets)\n",
    "button_search_product = pn.widgets.Button(name='BUSCAR', button_type='primary', height=height_widgets)"
   ]
  },
  {
   "cell_type": "code",
   "execution_count": 285,
   "metadata": {},
   "outputs": [],
   "source": [
    "layout_main = pn.Column()\n",
    "layout_sidebar = pn.Column()"
   ]
  },
  {
   "cell_type": "code",
   "execution_count": 286,
   "metadata": {},
   "outputs": [],
   "source": [
    "template = pn.template.FastListTemplate(\n",
    "    site=\"Fornecer\",\n",
    "    title=\"Login\",\n",
    "    main=[layout_main],\n",
    "    sidebar=[],\n",
    "    main_max_width='385px'\n",
    ")"
   ]
  },
  {
   "cell_type": "code",
   "execution_count": 287,
   "metadata": {},
   "outputs": [],
   "source": [
    "def start():\n",
    "    screen_login('start')\n",
    "\n",
    "def screen_login(event):\n",
    "    for x in layout_main:\n",
    "        layout_main.pop(len(layout_main)-1)\n",
    "    \n",
    "    template.main_max_width = '385px'\n",
    "    template.title='Login'\n",
    "    \n",
    "    layout_main.append(pn.Row('<h2>Faça seu login</h2>'))\n",
    "    layout_main.append(pn.Row(pn.widgets.TextInput(placeholder='Cpf/Cnpj', height=height_widgets)))\n",
    "    layout_main.append(pn.Row(pn.widgets.PasswordInput(placeholder='Senha', height=height_widgets)))\n",
    "    layout_main.append(pn.Row(button_login))\n",
    "    layout_main.append(pn.Row('Ainda não tem uma conta?'))\n",
    "    layout_main.append(pn.Row(button_registration))\n",
    "\n",
    "def screen_register(event):\n",
    "    for x in layout_main:\n",
    "        layout_main.pop(len(layout_main)-1)\n",
    "    \n",
    "    template.main_max_width = '700px'\n",
    "    template.title='Cadastro'\n",
    "\n",
    "    register_client = pn.Column(\n",
    "        pn.Row('<h3>Dados do cliente</h3><hr>'),\n",
    "        pn.Row(pn.widgets.TextInput(placeholder='Cpf', height=height_widgets), pn.widgets.TextInput(placeholder='Email', height=height_widgets)),\n",
    "        pn.Row(pn.widgets.TextInput(placeholder='Nome', height=height_widgets), pn.widgets.TextInput(placeholder='Sobrenome', height=height_widgets)),\n",
    "        pn.Row('<h3>Localização</h3><hr>'),\n",
    "        pn.Row(pn.widgets.TextInput(placeholder='Cep', height=height_widgets), pn.Row(pn.widgets.TextInput(placeholder='Região', height=height_widgets))),\n",
    "        pn.Row(pn.widgets.TextInput(placeholder='Estado', height=height_widgets), pn.Row(pn.widgets.TextInput(placeholder='Cidade', height=height_widgets))),\n",
    "        pn.Row(button_registration_client)\n",
    "    )\n",
    "\n",
    "    register_company = pn.Column(\n",
    "        pn.Row('<h3>Dados da empresa</h3><hr>'),\n",
    "        pn.Row(pn.widgets.TextInput(placeholder='Cnpj', height=height_widgets), pn.widgets.TextInput(placeholder='Email', height=height_widgets)),\n",
    "        pn.Row(pn.widgets.TextInput(placeholder='Nome da empresa', height=height_widgets), pn.widgets.TextInput(placeholder='Sobrenome', height=height_widgets)),\n",
    "        pn.Row(pn.widgets.TextInput(placeholder='Mercado de atuação', height=height_widgets)),\n",
    "        pn.Row('<h3>Localização</h3><hr>'),\n",
    "        pn.Row(pn.widgets.TextInput(placeholder='Cep', height=height_widgets), pn.Row(pn.widgets.TextInput(placeholder='Região', height=height_widgets))),\n",
    "        pn.Row(pn.widgets.TextInput(placeholder='Estado', height=height_widgets), pn.Row(pn.widgets.TextInput(placeholder='Cidade', height=height_widgets))),\n",
    "        pn.Row(button_registration_company)\n",
    "    )\n",
    "\n",
    "    tab_registration = pn.Tabs(\n",
    "        ('Cliente', register_client),\n",
    "        ('Empresa', register_company)\n",
    "    )\n",
    "    \n",
    "    layout_main.append(pn.Row('<h2>Crie sua conta</h2>'))\n",
    "    layout_main.append(tab_registration)\n",
    "    layout_main.append(button_registration_unsubscribe)\n",
    "\n",
    "def screen_home_client(event):\n",
    "    for x in layout_main:\n",
    "        layout_main.pop(len(layout_main)-1)\n",
    "    \n",
    "    template.main_max_width=''\n",
    "    template.title='Cliente'\n",
    "    template.sidebar.append(layout_sidebar)\n",
    "\n",
    "    map = fm.Map(location=[-5.128306,-39.736841], zoom_start=5)\n",
    "\n",
    "    tab_home_main_client = pn.Tabs(\n",
    "        ('Mapa', pn.panel(map, height=570, width=1120)),\n",
    "        ('Tabela', '<h3>Tabela</h3>')\n",
    "    )\n",
    "\n",
    "    search_company = pn.Column(\n",
    "        pn.Row('<h3>Buscar por empresa</h3>'),\n",
    "        pn.Row(pn.widgets.TextInput(placeholder='Nome da empresa')),\n",
    "        pn.Row(pn.widgets.MultiChoice(placeholder='Tipo', options=['Alimento', 'Combustível', 'Manufatura'], solid=True)),\n",
    "        pn.Row(pn.widgets.TextInput(placeholder='Região')),\n",
    "        pn.Row(pn.widgets.TextInput(placeholder='Estado')),\n",
    "        pn.Row(pn.widgets.TextInput(placeholder='Cidade')),\n",
    "        pn.Row(button_search_company)\n",
    "    )\n",
    "\n",
    "    search_product = pn.Column(\n",
    "        pn.Row('<h3>Buscar por produto</h3>'),\n",
    "        pn.Row(pn.widgets.TextInput(placeholder='Nome do produto')),\n",
    "        pn.Row(pn.widgets.MultiChoice(name='Tipo', options=['Alimento', 'Combustível', 'Manufatura'])),\n",
    "        pn.Row(pn.widgets.RangeSlider(name='Intervalo de preço', start=0, end=1000, step=0.01)),\n",
    "        pn.Row(button_search_product)\n",
    "    )\n",
    "\n",
    "    tab_home_sidebar_client = pn.Tabs(\n",
    "        ('Empresa', search_company),\n",
    "        ('Produto', search_product)\n",
    "    )\n",
    "\n",
    "    layout_main.append(pn.Row(tab_home_main_client))\n",
    "\n",
    "    layout_sidebar.append(pn.Row(tab_home_sidebar_client))\n"
   ]
  },
  {
   "cell_type": "code",
   "execution_count": 288,
   "metadata": {},
   "outputs": [],
   "source": [
    "def check_account_type(event):\n",
    "    screen_home_client('home')"
   ]
  },
  {
   "cell_type": "code",
   "execution_count": 289,
   "metadata": {},
   "outputs": [],
   "source": [
    "button_registration.param.watch(screen_register, 'value')\n",
    "button_registration.value = False\n",
    "\n",
    "button_registration_unsubscribe.param.watch(screen_login, 'value')\n",
    "button_registration_unsubscribe.value = False\n",
    "\n",
    "button_login.param.watch(check_account_type, 'value')\n",
    "button_login.value = False"
   ]
  },
  {
   "cell_type": "code",
   "execution_count": 290,
   "metadata": {},
   "outputs": [
    {
     "name": "stdout",
     "output_type": "stream",
     "text": [
      "Launching server at http://localhost:60630\n"
     ]
    },
    {
     "data": {
      "text/plain": [
       "<panel.io.server.Server at 0x1de7d8486d0>"
      ]
     },
     "execution_count": 290,
     "metadata": {},
     "output_type": "execute_result"
    }
   ],
   "source": [
    "start()\n",
    "\n",
    "template.show()"
   ]
  }
 ],
 "metadata": {
  "kernelspec": {
   "display_name": "Python 3.9.10 64-bit",
   "language": "python",
   "name": "python3"
  },
  "language_info": {
   "codemirror_mode": {
    "name": "ipython",
    "version": 3
   },
   "file_extension": ".py",
   "mimetype": "text/x-python",
   "name": "python",
   "nbconvert_exporter": "python",
   "pygments_lexer": "ipython3",
   "version": "3.9.10"
  },
  "orig_nbformat": 4,
  "vscode": {
   "interpreter": {
    "hash": "f55759c06c0f433dd3b99d44e2120f9843c1dd6f7cca7def0868fe5dd8cf6834"
   }
  }
 },
 "nbformat": 4,
 "nbformat_minor": 2
}
