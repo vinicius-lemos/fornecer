{
 "cells": [
  {
   "cell_type": "code",
   "execution_count": 1,
   "metadata": {},
   "outputs": [],
   "source": [
    "import panel as pn"
   ]
  },
  {
   "cell_type": "code",
   "execution_count": 2,
   "metadata": {},
   "outputs": [],
   "source": [
    "height_widgets = 50"
   ]
  },
  {
   "cell_type": "code",
   "execution_count": 3,
   "metadata": {},
   "outputs": [],
   "source": [
    "button_login = pn.widgets.Button(name='ENTRAR', button_type='primary', height=height_widgets)\n",
    "button_registration = pn.widgets.Button(name='Registre-se', height=height_widgets)\n",
    "\n",
    "button_registration_client = pn.widgets.Button(name='Cadastrar', button_type='primary', height=height_widgets, width=620)\n",
    "button_registration_company = pn.widgets.Button(name='Cadastrar', button_type='primary', height=height_widgets, width=620)\n",
    "button_registration_unsubscribe = pn.widgets.Button(name='Cancelar cadastro', button_type='success', height=height_widgets, width=620)"
   ]
  },
  {
   "cell_type": "code",
   "execution_count": 4,
   "metadata": {},
   "outputs": [],
   "source": [
    "layout_main = pn.Column()"
   ]
  },
  {
   "cell_type": "code",
   "execution_count": 5,
   "metadata": {},
   "outputs": [],
   "source": [
    "template = pn.template.FastListTemplate(\n",
    "    site=\"Fornecer\",\n",
    "    title=\"Dynamic Plot Layout\",\n",
    "    main=[layout_main],\n",
    "    main_max_width='385px'\n",
    ")"
   ]
  },
  {
   "cell_type": "code",
   "execution_count": 6,
   "metadata": {},
   "outputs": [],
   "source": [
    "def start():\n",
    "    screen_login('start')\n",
    "\n",
    "def screen_login(event):\n",
    "    for x in layout_main:\n",
    "        layout_main.pop(len(layout_main)-1)\n",
    "    \n",
    "    template.main_max_width = '385px'\n",
    "    \n",
    "    layout_main.append(pn.Row('<h2>Faça seu login</h2>'))\n",
    "    layout_main.append(pn.Row(pn.widgets.TextInput(placeholder='Cpf/Cnpj', height=height_widgets)))\n",
    "    layout_main.append(pn.Row(pn.widgets.PasswordInput(placeholder='Senha', height=height_widgets)))\n",
    "    layout_main.append(pn.Row(button_login))\n",
    "    layout_main.append(pn.Row('Ainda não tem uma conta?'))\n",
    "    layout_main.append(pn.Row(button_registration))\n",
    "\n",
    "def screen_register(event):\n",
    "    for x in layout_main:\n",
    "        layout_main.pop(len(layout_main)-1)\n",
    "    \n",
    "    template.main_max_width = '700px'\n",
    "\n",
    "    register_client = pn.Column(\n",
    "        pn.Row('<h3>Dados do cliente</h3><hr>'),\n",
    "        pn.Row(pn.widgets.TextInput(placeholder='Cpf', height=height_widgets), pn.widgets.TextInput(placeholder='Email', height=height_widgets)),\n",
    "        pn.Row(pn.widgets.TextInput(placeholder='Nome', height=height_widgets), pn.widgets.TextInput(placeholder='Sobrenome', height=height_widgets)),\n",
    "        pn.Row('<h3>Localização</h3><hr>'),\n",
    "        pn.Row(pn.widgets.TextInput(placeholder='Cep', height=height_widgets), pn.Row(pn.widgets.TextInput(placeholder='Região', height=height_widgets))),\n",
    "        pn.Row(pn.widgets.TextInput(placeholder='Estado', height=height_widgets), pn.Row(pn.widgets.TextInput(placeholder='Cidade', height=height_widgets))),\n",
    "        pn.Row(button_registration_client)\n",
    "    )\n",
    "\n",
    "    register_company = pn.Column(\n",
    "        pn.Row('<h3>Dados da empresa</h3><hr>'),\n",
    "        pn.Row(pn.widgets.TextInput(placeholder='Cnpj', height=height_widgets), pn.widgets.TextInput(placeholder='Email', height=height_widgets)),\n",
    "        pn.Row(pn.widgets.TextInput(placeholder='Nome da empresa', height=height_widgets), pn.widgets.TextInput(placeholder='Sobrenome', height=height_widgets)),\n",
    "        pn.Row(pn.widgets.TextInput(placeholder='Mercado de atuação', height=height_widgets)),\n",
    "        pn.Row('<h3>Localização</h3><hr>'),\n",
    "        pn.Row(pn.widgets.TextInput(placeholder='Cep', height=height_widgets), pn.Row(pn.widgets.TextInput(placeholder='Região', height=height_widgets))),\n",
    "        pn.Row(pn.widgets.TextInput(placeholder='Estado', height=height_widgets), pn.Row(pn.widgets.TextInput(placeholder='Cidade', height=height_widgets))),\n",
    "        pn.Row(button_registration_company)\n",
    "    )\n",
    "\n",
    "    tab_registration = pn.Tabs(\n",
    "        ('Cliente', register_client),\n",
    "        ('Empresa', register_company)\n",
    "    )\n",
    "    \n",
    "    layout_main.append(pn.Row('<h2>Crie sua conta</h2>'))\n",
    "    layout_main.append(tab_registration)\n",
    "    layout_main.append(button_registration_unsubscribe)"
   ]
  },
  {
   "cell_type": "code",
   "execution_count": 7,
   "metadata": {},
   "outputs": [],
   "source": [
    "button_registration.param.watch(screen_register, 'value')\n",
    "button_registration.value = False\n",
    "\n",
    "button_registration_unsubscribe.param.watch(screen_login, 'value')\n",
    "button_registration_unsubscribe.value = False"
   ]
  },
  {
   "cell_type": "code",
   "execution_count": 8,
   "metadata": {},
   "outputs": [
    {
     "name": "stdout",
     "output_type": "stream",
     "text": [
      "Launching server at http://localhost:57358\n"
     ]
    },
    {
     "data": {
      "text/plain": [
       "<panel.io.server.Server at 0x1ee6395fee0>"
      ]
     },
     "execution_count": 8,
     "metadata": {},
     "output_type": "execute_result"
    }
   ],
   "source": [
    "start()\n",
    "\n",
    "template.show()"
   ]
  }
 ],
 "metadata": {
  "kernelspec": {
   "display_name": "Python 3.9.10 64-bit",
   "language": "python",
   "name": "python3"
  },
  "language_info": {
   "codemirror_mode": {
    "name": "ipython",
    "version": 3
   },
   "file_extension": ".py",
   "mimetype": "text/x-python",
   "name": "python",
   "nbconvert_exporter": "python",
   "pygments_lexer": "ipython3",
   "version": "3.9.10"
  },
  "orig_nbformat": 4,
  "vscode": {
   "interpreter": {
    "hash": "f55759c06c0f433dd3b99d44e2120f9843c1dd6f7cca7def0868fe5dd8cf6834"
   }
  }
 },
 "nbformat": 4,
 "nbformat_minor": 2
}
